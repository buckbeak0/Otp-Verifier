{
 "cells": [
  {
   "cell_type": "markdown",
   "id": "0a39c132-4654-4ec0-adab-004be0bd5580",
   "metadata": {},
   "source": [
    "# OTP Verification project"
   ]
  },
  {
   "cell_type": "markdown",
   "id": "a6ec05a7-6d7c-4d31-ad5f-6806f09dea77",
   "metadata": {},
   "source": [
    "## Importing modules and libraries\n",
    "- smtplib - For mail configuration\n",
    "- random - To generate otp\n",
    "- datetime - For a limited time validation of otp"
   ]
  },
  {
   "cell_type": "code",
   "execution_count": 1,
   "id": "a000ecd6-b02b-4706-8ad8-aa7fec22c7c0",
   "metadata": {},
   "outputs": [],
   "source": [
    "import smtplib as smt\n",
    "import random as rnd\n",
    "import datetime as dt"
   ]
  },
  {
   "cell_type": "markdown",
   "id": "f2bd74b7-f856-4065-afa2-26996f2402f0",
   "metadata": {},
   "source": [
    "## Setup server\r",
    "- \n",
    "Add otp sender's email address and app password- \r\n",
    "Create an smpt server object with email provider's smtp server and po\n",
    "- Call starttls()r- t\r\n",
    "Login with email and password"
   ]
  },
  {
   "cell_type": "code",
   "execution_count": 2,
   "id": "61c07350-1128-4b55-9631-c5ee2886a35e",
   "metadata": {},
   "outputs": [
    {
     "data": {
      "text/plain": [
       "(235, b'2.7.0 Accepted')"
      ]
     },
     "execution_count": 2,
     "metadata": {},
     "output_type": "execute_result"
    }
   ],
   "source": [
    "sender = \"youremail@gmail.com\"\n",
    "app_pass = \"efyj dkob rdtq qobv\"#replace with your app pass\n",
    "server = smt.SMTP(\"smtp.gmail.com\", 587)\n",
    "server.starttls()\n",
    "server.login(sender, app_pass)"
   ]
  },
  {
   "cell_type": "markdown",
   "id": "63eeebae-3cda-44d4-8805-df2a3c81c732",
   "metadata": {},
   "source": [
    "## Generate Otp"
   ]
  },
  {
   "cell_type": "code",
   "execution_count": 3,
   "id": "da3f8cd5-28ba-4646-8bd9-7aebbd372f7f",
   "metadata": {},
   "outputs": [],
   "source": [
    "def otp():\n",
    "    otp = \"\"\n",
    "    for i in range(6):\n",
    "        otp += str(rnd.randint(0,9))\n",
    "    return otp"
   ]
  },
  {
   "cell_type": "markdown",
   "id": "34a6bfe3-319d-4188-b3db-971b1e623d49",
   "metadata": {},
   "source": [
    "## Input the reciever's email id"
   ]
  },
  {
   "cell_type": "code",
   "execution_count": 4,
   "id": "9314a1a7-9274-4121-b655-cfc35ed50d0f",
   "metadata": {},
   "outputs": [
    {
     "name": "stdin",
     "output_type": "stream",
     "text": [
      "Enter reciever's eamil id :-  adisdsm4560@gmail.com\n"
     ]
    }
   ],
   "source": [
    "reciever = input(\"Enter reciever's eamil id :- \")"
   ]
  },
  {
   "cell_type": "markdown",
   "id": "5d498e63-b13d-45dc-92d4-0048e5b9f8f9",
   "metadata": {},
   "source": [
    "## Draft mail"
   ]
  },
  {
   "cell_type": "code",
   "execution_count": 5,
   "id": "c5b8e9f6-af28-4913-9da6-b64705d5021c",
   "metadata": {},
   "outputs": [],
   "source": [
    "sub = \"Subject:Otp verification\"\n",
    "cotp = otp()\n",
    "body = f\"Otp for verification : '{cotp}'\"\n",
    "date = f\"Date:{dt.datetime.now().strftime(\"%Y-%m-%d %H:%M\")}\"\n",
    "mail = f\"{sub}\\n\\n{body}\\n\\n{date}\""
   ]
  },
  {
   "cell_type": "markdown",
   "id": "f9f97f6f-be30-464d-ab1f-9c786ff9cb74",
   "metadata": {},
   "source": [
    "## Sending otp\n",
    "- Send the mail\n",
    "- Create a current time obj\n",
    "- Add 4 minutes to it and store in another var"
   ]
  },
  {
   "cell_type": "code",
   "execution_count": 6,
   "id": "7c95d209-669e-49f7-ba58-385ad86925d4",
   "metadata": {},
   "outputs": [],
   "source": [
    "start = dt.datetime.now()\n",
    "server.sendmail(sender, reciever, mail)\n",
    "end = start + dt.timedelta(minutes=4)"
   ]
  },
  {
   "cell_type": "markdown",
   "id": "1b771873-7cc8-43f8-8d8d-930da911d217",
   "metadata": {},
   "source": [
    "## Verify the otp until vaild\n",
    "- Use loop while otp is vaild\n",
    "- Enter otp\n",
    "- Check\n",
    "- Done"
   ]
  },
  {
   "cell_type": "code",
   "execution_count": 7,
   "id": "edb12c02-5a5d-49a8-a3a5-802b1a2d313e",
   "metadata": {},
   "outputs": [
    {
     "name": "stdin",
     "output_type": "stream",
     "text": [
      "Enter recieved otp :-  989898\n"
     ]
    },
    {
     "name": "stdout",
     "output_type": "stream",
     "text": [
      "Otp invalid retry\n",
      "\n"
     ]
    },
    {
     "name": "stdin",
     "output_type": "stream",
     "text": [
      "Enter recieved otp :-  9494949\n"
     ]
    },
    {
     "name": "stdout",
     "output_type": "stream",
     "text": [
      "Otp invalid retry\n",
      "\n",
      "Timeout!!!\n"
     ]
    }
   ],
   "source": [
    "print(\"Enter otp under 4 minutes\")\n",
    "while start <= end:\n",
    "    rotp = input(\"Enter recieved otp :- \")\n",
    "    start = dt.datetime.now()\n",
    "    if start <= end:\n",
    "        continue\n",
    "    if rotp == cotp:\n",
    "        print(\"Correct Otp verified\")\n",
    "        break\n",
    "    else:\n",
    "        print(\"Otp invalid retry\\n\")\n",
    "else:\n",
    "    print(\"Timeout!!!\")"
   ]
  }
 ],
 "metadata": {
  "kernelspec": {
   "display_name": "Python 3 (ipykernel)",
   "language": "python",
   "name": "python3"
  },
  "language_info": {
   "codemirror_mode": {
    "name": "ipython",
    "version": 3
   },
   "file_extension": ".py",
   "mimetype": "text/x-python",
   "name": "python",
   "nbconvert_exporter": "python",
   "pygments_lexer": "ipython3",
   "version": "3.12.0"
  }
 },
 "nbformat": 4,
 "nbformat_minor": 5
}
